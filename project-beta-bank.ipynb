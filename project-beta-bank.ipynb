{
 "cells": [
  {
   "attachments": {},
   "cell_type": "markdown",
   "id": "391e5143",
   "metadata": {},
   "source": [
    "<h1>Содержание<span class=\"tocSkip\"></span></h1>\n",
    "<div class=\"toc\"><ul class=\"toc-item\"><li><span><a href=\"#Подготовка-данных\" data-toc-modified-id=\"Подготовка-данных-1\"><span class=\"toc-item-num\">1&nbsp;&nbsp;</span>Подготовка данных</a></span></li><li><span><a href=\"#Исследование-задачи\" data-toc-modified-id=\"Исследование-задачи-2\"><span class=\"toc-item-num\">2&nbsp;&nbsp;</span>Исследование задачи</a></span></li><li><span><a href=\"#Борьба-с-дисбалансом\" data-toc-modified-id=\"Борьба-с-дисбалансом-3\"><span class=\"toc-item-num\">3&nbsp;&nbsp;</span>Борьба с дисбалансом</a></span></li><li><span><a href=\"#Тестирование-модели\" data-toc-modified-id=\"Тестирование-модели-4\"><span class=\"toc-item-num\">4&nbsp;&nbsp;</span>Тестирование модели"
   ]
  },
  {
   "attachments": {},
   "cell_type": "markdown",
   "id": "d03c939d",
   "metadata": {},
   "source": [
    "# Отток клиентов"
   ]
  },
  {
   "attachments": {},
   "cell_type": "markdown",
   "id": "2e2e5387",
   "metadata": {},
   "source": [
    "Из «Бета-Банка» стали уходить клиенты. Каждый месяц. Немного, но заметно. Банковские маркетологи посчитали: сохранять текущих клиентов дешевле, чем привлекать новых.\n",
    "\n",
    "Нужно спрогнозировать, уйдёт клиент из банка в ближайшее время или нет. Вам предоставлены исторические данные о поведении клиентов и расторжении договоров с банком. \n",
    "\n",
    "Постройте модель с предельно большим значением *F1*-меры. Чтобы сдать проект успешно, нужно довести метрику до 0.59. Проверьте *F1*-меру на тестовой выборке самостоятельно.\n",
    "\n",
    "Дополнительно измеряйте *AUC-ROC*, сравнивайте её значение с *F1*-мерой.\n",
    "\n",
    "Источник данных: [https://www.kaggle.com/barelydedicated/bank-customer-churn-modeling](https://www.kaggle.com/barelydedicated/bank-customer-churn-modeling)"
   ]
  },
  {
   "attachments": {},
   "cell_type": "markdown",
   "id": "bf669f7b",
   "metadata": {},
   "source": [
    "## Подготовка данных"
   ]
  },
  {
   "cell_type": "code",
   "execution_count": 1,
   "id": "f7b1e834",
   "metadata": {},
   "outputs": [],
   "source": [
    "# библиотеки для работы и визуализации данных\n",
    "import pandas as pd\n",
    "import matplotlib.pyplot as plt\n",
    "import numpy as np\n",
    "\n",
    "# подготовка данных к обучению:\n",
    "from sklearn.model_selection import train_test_split \n",
    "from sklearn.preprocessing import StandardScaler\n",
    "from sklearn.utils import shuffle\n",
    "from imblearn.under_sampling import RandomUnderSampler\n",
    "from imblearn.over_sampling import SMOTE\n",
    "\n",
    "# модели машинного обучения:\n",
    "from sklearn.ensemble import RandomForestClassifier\n",
    "\n",
    "# метрики для оценки работы моделей:\n",
    "from sklearn.metrics import (accuracy_score, recall_score, precision_score,\n",
    "                             f1_score, confusion_matrix,\n",
    "                             precision_recall_curve, roc_curve, roc_auc_score)\n",
    "\n",
    "\n",
    "pd.options.mode.chained_assignment = None # скрыть предупреждения"
   ]
  },
  {
   "cell_type": "code",
   "execution_count": 2,
   "id": "480c7e74",
   "metadata": {},
   "outputs": [],
   "source": [
    "data = pd.read_csv(r'C:\\Users\\Grine\\Downloads\\Churn.csv')"
   ]
  },
  {
   "cell_type": "code",
   "execution_count": 3,
   "id": "6b3942c9",
   "metadata": {},
   "outputs": [
    {
     "data": {},
     "execution_count": 3,
     "metadata": {},
     "output_type": "execute_result"
    }
   ],
   "source": [
    "data.head(5)\n",
    "# названия столбцов не соотвествуют стандарту pep-8"
   ]
  },
  {
   "cell_type": "code",
   "execution_count": 4,
   "id": "b653dbd6",
   "metadata": {},
   "outputs": [],
   "source": [
    "# данный код создаёт список, в который помещает все слова с заглавной буквы. Затем соединяет слова используя нижнее подчёркивание;\n",
    "# после этого приводит все слова к нижнему регистру по каждому названию \n",
    "import re\n",
    "data.columns = [(('_'.join(re.findall('[A-Z][^A-Z]*', name))).lower()) for name in data.columns]"
   ]
  },
  {
   "cell_type": "code",
   "execution_count": 5,
   "id": "90cd664a",
   "metadata": {},
   "outputs": [],
   "source": [
    "data.info() # необходимо преобразовать признаки. (удалить лишнее и привести к нужному типу данных)"
   ]
  },
  {
   "cell_type": "code",
   "execution_count": 6,
   "id": "02f9cb34",
   "metadata": {},
   "outputs": [],
   "source": [
    "data = data[data['tenure'].notna()] #Избавлясь от 10% значений, содержащих пропуски исходный набора данных не перестаёт давать полную картину об анализируемых данных.\n",
    "                                    #Однако, мы снижаем риски, что отсутсвие значения, будет неправильно идентифицировано моделью"
   ]
  },
  {
   "cell_type": "code",
   "execution_count": 7,
   "id": "91daeebb",
   "metadata": {},
   "outputs": [],
   "source": [
    "# преобразуем типы данных\n",
    "data[data.select_dtypes(include='float64').columns] = (data\n",
    "                                                       .select_dtypes(include='float64').astype('float32'))\n",
    "data[data.select_dtypes(include='int64').columns] = (data\n",
    "                                                       .select_dtypes(include='int64').astype('int32'))"
   ]
  },
  {
   "cell_type": "code",
   "execution_count": 8,
   "id": "d6435a93",
   "metadata": {},
   "outputs": [],
   "source": [
    "serieses_with_type_object = data.select_dtypes('object') # посмотрим, какие столбцы принимают тип данных object\n",
    "print(len(set(serieses_with_type_object.iloc[:, 0]))) # множество фамилий. Удалим этот столбец он будет запутывать модель.\n",
    "print(set(serieses_with_type_object.iloc[:, 1])) # множество стран. Приобразуем с помощью One-hot Encoding\n",
    "print(set(serieses_with_type_object.iloc[:, 2])) # множество полов. Тут также подойдёт метод OHE.\n",
    "data = data.drop(columns='surname', axis=1)\n",
    "data = pd.get_dummies(data) # Дамми-ловушка тут не возникнет. \n",
    "                            # Удалять первую колонку не надо. Все 3 страны - разные.\n",
    "                            # А гендера всего 2."
   ]
  },
  {
   "cell_type": "code",
   "execution_count": 9,
   "id": "b217b621",
   "metadata": {},
   "outputs": [],
   "source": [
    "# Дополнительно из модели стоит удалить такие столбцы, как: row и customer-id. \n",
    "# вряд-ли порядковый номер строки и порядковый номер клиента поспособствуют улучшению качества модели\n",
    "data = data.drop(columns=['row_number', 'customer_id'])"
   ]
  },
  {
   "attachments": {},
   "cell_type": "markdown",
   "id": "078a2b04",
   "metadata": {},
   "source": [
    "### Исследование задачи"
   ]
  },
  {
   "attachments": {},
   "cell_type": "markdown",
   "id": "e1b93d32",
   "metadata": {},
   "source": [
    "План исследования:\n",
    "\n",
    "    1) делим данные на выборки;\n",
    "    2) масштабируем признаки в данных;\n",
    "    3) подбираем лучшие модели по целевому параметру F1_score (без учёта дисбаланса);\n",
    "\n",
    "Прорабатываем дисбаланс классов:\n",
    "\n",
    "    4) Сделали апсемплинг, посмотрели результат (отобрали лучшую модель по F1-мере и ROC-AUC);\n",
    "    5) Сделали даунсемплинга, отобрали лучшую модель (отобрали лучшую модель по F1-мере и ROC-       AUC);\n",
    "    6) Отбираем лучшую модель при взвешивание классов (отобрали лучшую модель по F1-мере и ROC-       AUC)."
   ]
  },
  {
   "cell_type": "code",
   "execution_count": 12,
   "id": "78377eee",
   "metadata": {},
   "outputs": [],
   "source": [
    "# Создадим 2 группы данных. Целевой признак и все остальные\n",
    "\n",
    "target = data['exited'] \n",
    "features = data.drop(columns=['exited'], axis=1) "
   ]
  },
  {
   "cell_type": "code",
   "execution_count": 13,
   "id": "e1d8930b",
   "metadata": {},
   "outputs": [],
   "source": [
    "features_train, features_tech, target_train, target_tech = train_test_split(\n",
    "    features, target, test_size=0.4, random_state=12345)\n",
    "\n",
    "features_valid, features_test, target_valid, target_test = train_test_split(\n",
    "    features_tech, target_tech, test_size=0.5, random_state=12345) \n",
    "\n",
    "\n",
    "print('Объём выборки для обучения:', \"{0:.0%}\".format(features_train.shape[0]/features.shape[0]))\n",
    "print('Объём выборки для валидации:', \"{0:.0%}\".format(features_valid.shape[0]/features.shape[0]))\n",
    "print('Объём выборки для теста:', \"{0:.0%}\".format(features_test.shape[0]/features.shape[0]))"
   ]
  },
  {
   "attachments": {},
   "cell_type": "markdown",
   "id": "eaf92363",
   "metadata": {},
   "source": [
    "Прибегнем к методу масштабизации признаков. Чтобы избежать утечки признаков. В качестве метода масштабизации будем применять метод стандртизации"
   ]
  },
  {
   "cell_type": "code",
   "execution_count": 14,
   "id": "d77661ab",
   "metadata": {},
   "outputs": [],
   "source": [
    "numeric = list(data.columns[[0, 1, 2, 3, 4, 7]])\n",
    "print('Отобранные для стандартизации столбцы:', numeric)"
   ]
  },
  {
   "cell_type": "code",
   "execution_count": 15,
   "id": "bdcbc255",
   "metadata": {},
   "outputs": [],
   "source": [
    "scaler = StandardScaler()\n",
    "scaler.fit(features_train[numeric])\n",
    "\n",
    "features_train[numeric] = scaler.transform(features_train[numeric])\n",
    "features_valid[numeric] = scaler.transform(features_valid[numeric])\n",
    "features_test[numeric] = scaler.transform(features_test[numeric])"
   ]
  },
  {
   "attachments": {},
   "cell_type": "markdown",
   "id": "c9f7b428",
   "metadata": {},
   "source": [
    "**Данные разбиты на выборки и приведены к станадртному виду. Теперь можно проводить пробное обучение**"
   ]
  },
  {
   "attachments": {},
   "cell_type": "markdown",
   "id": "0431448f",
   "metadata": {},
   "source": [
    "### Пробное обучение"
   ]
  },
  {
   "cell_type": "code",
   "execution_count": 17,
   "id": "ddf03b43",
   "metadata": {},
   "outputs": [],
   "source": [
    "%%time\n",
    "\n",
    "best_model_random = None\n",
    "best_random_forest_f1_score = 0\n",
    "best_auc_roc_score_model_random_forest = 0\n",
    "\n",
    "for d in range(1, 10):\n",
    "    for n_e in range(10, 200, 10):\n",
    "        model_random_forest = RandomForestClassifier(max_depth=d,\n",
    "                                                    n_estimators=n_e,\n",
    "                                                    random_state=12345)\n",
    "        model_random_forest.fit(features_train, target_train)\n",
    "        predictions = model_random_forest.predict(features_valid)\n",
    "        result = f1_score(target_valid, predictions)\n",
    "        result_roc = roc_auc_score(target_valid, model_random_forest.predict_proba(features_valid)[:, 1])\n",
    "        if result > best_random_forest_f1_score:\n",
    "            best_random_forest_f1_score = result\n",
    "            best_auc_roc_score_model_random_forest = result_roc\n",
    "            best_model_random = model_random_forest\n",
    "        else:\n",
    "            continue\n",
    "            \n",
    "print('Best_f1_sccore_result:', \"{:.3f}\".format(best_random_forest_f1_score))\n",
    "print('Best_auc_roc_score_result:', \"{:.3f}\".format(best_auc_roc_score_model_random_forest))"
   ]
  },
  {
   "attachments": {},
   "cell_type": "markdown",
   "id": "8361f7e4",
   "metadata": {},
   "source": [
    "**По пробному обучению видно, что целевая F1-мера не достигнута необходимо разобраться в чём проблема. Вероятно, связана эта проблема с дисбалансом классов.**\n",
    "\n",
    "**Учитывая этот фактор, лучше всего показала себя модель линейной регрессии.**"
   ]
  },
  {
   "cell_type": "code",
   "execution_count": 19,
   "id": "449e8134",
   "metadata": {},
   "outputs": [
    {
     "data": {},
     "execution_count": 19,
     "metadata": {},
     "output_type": "execute_result"
    }
   ],
   "source": [
    "confusion_matrix(target_valid, predictions)"
   ]
  },
  {
   "attachments": {},
   "cell_type": "markdown",
   "id": "31c844a6",
   "metadata": {},
   "source": [
    "## Борьба с дисбалансом"
   ]
  },
  {
   "attachments": {},
   "cell_type": "markdown",
   "id": "fcb24fa5",
   "metadata": {},
   "source": [
    "Для борьбы с дисбалансом будет применяно 3 метода:\n",
    "\n",
    "    1) апсемплинг;\n",
    "    2) даунспелинг;\n",
    "    3) взвешивание классов;\n",
    "    \n",
    "Сначала проведём обучение моделей на каждом из методе, а потом посмотрим итоговые результаты."
   ]
  },
  {
   "attachments": {},
   "cell_type": "markdown",
   "id": "4659c52c",
   "metadata": {},
   "source": [
    "### Upsempling"
   ]
  },
  {
   "attachments": {},
   "cell_type": "markdown",
   "id": "709ff9eb",
   "metadata": {},
   "source": [
    "C помощью метода SMOTE импортированного из библиотеки imblearn, избавим от дисбаланса класса (метод увеличиваем выборку с меньшим классом)."
   ]
  },
  {
   "cell_type": "code",
   "execution_count": 21,
   "id": "36b79122",
   "metadata": {},
   "outputs": [],
   "source": [
    "oversample = SMOTE(random_state=12345)\n",
    "features_train_up, target_train_up = oversample.fit_resample(features_train, target_train)"
   ]
  },
  {
   "cell_type": "code",
   "execution_count": 22,
   "id": "83d7bbae",
   "metadata": {},
   "outputs": [],
   "source": [
    "method = 'upsempling'                      # метод, который тестируем\n",
    "best_model_random = None                   # лучшая модель случайного леса\n",
    "best_random_forest_f1_score = 0            # лучший результат f1-score для случайного леса\n",
    "best_auc_roc_score_model_random_forest = 0 # ллучший результат auc-roc для случайного леса\n",
    "\n",
    "\n",
    "\n",
    "for d in range(1, len(features_train.columns)):\n",
    "    for n_e in range(10, 200, 10):\n",
    "        model_random_forest = RandomForestClassifier(max_depth=d,\n",
    "                                                    n_estimators=n_e,\n",
    "                                                    random_state=12345)\n",
    "        model_random_forest.fit(features_train_up, target_train_up)\n",
    "        predictions = model_random_forest.predict(features_valid)\n",
    "        result = f1_score(target_valid, predictions)\n",
    "        result_roc = roc_auc_score(target_valid, model_random_forest.predict_proba(features_valid)[:, 1])\n",
    "        if result > best_random_forest_f1_score:\n",
    "            best_random_forest_f1_score = result\n",
    "            best_auc_roc_score_model_random_forest = result_roc\n",
    "            best_model_random = model_random_forest\n",
    "        else:\n",
    "            continue\n",
    "\n",
    "\n",
    "# создадим списки с результатми \n",
    "\n",
    "models = [best_model_random]\n",
    "f1_results = [best_random_forest_f1_score]\n",
    "auc_roc_results = [best_auc_roc_score_model_random_forest]\n",
    "method = (f'{method}/' * len(models)).split('/')[:-1] # технический список. В него будет вносится метод"
   ]
  },
  {
   "cell_type": "code",
   "execution_count": 23,
   "id": "8c594bdd",
   "metadata": {},
   "outputs": [
    {
     "data": {},
     "metadata": {},
     "output_type": "display_data"
    }
   ],
   "source": [
    "results1 = pd.DataFrame({\n",
    "                                    'models': models,\n",
    "                                    'f1_results': f1_results,\n",
    "                                    'auc_roc_results': auc_roc_results,\n",
    "                                    'method': method\n",
    "                                }).sort_values(by='f1_results', ascending=False).reset_index(drop=True)\n",
    "\n",
    "print(f'''Лучшая модель: {results1[\"models\"][0]} при методе \"{results1[\"method\"][0]}\"\n",
    "Показала результат f1: {round(results1[\"f1_results\"][0], 3)} и auc-roc: {round( results1[\"auc_roc_results\"][0], 3)} \n",
    "\\n Таблица результатов:''')\n",
    "display(results1)"
   ]
  },
  {
   "attachments": {},
   "cell_type": "markdown",
   "id": "48dafdf7",
   "metadata": {},
   "source": [
    "### Downsempling"
   ]
  },
  {
   "cell_type": "code",
   "execution_count": 24,
   "id": "8f727c16",
   "metadata": {},
   "outputs": [],
   "source": [
    "undersample = RandomUnderSampler(random_state=12345)\n",
    "features_train_down, target_train_down = undersample.fit_resample(features_train, target_train)"
   ]
  },
  {
   "cell_type": "code",
   "execution_count": 25,
   "id": "11f4eb94",
   "metadata": {},
   "outputs": [],
   "source": [
    "best_model_random = None                   # лучшая модель случайного леса\n",
    "best_random_forest_f1_score = 0            # лучший результат f1-score для случайного леса\n",
    "best_auc_roc_score_model_random_forest = 0 # ллучший результат auc-roc для случайного леса\n",
    "\n",
    "\n",
    "\n",
    "for d in range(1, len(features_train.columns)):\n",
    "    for n_e in range(10, 200, 10):\n",
    "        model_random_forest = RandomForestClassifier(max_depth=d,\n",
    "                                                    n_estimators=n_e,\n",
    "                                                    random_state=12345)\n",
    "        model_random_forest.fit(features_train_down, target_train_down)\n",
    "        predictions = model_random_forest.predict(features_valid)\n",
    "        result = f1_score(target_valid, predictions)\n",
    "        result_roc = roc_auc_score(target_valid, model_random_forest.predict_proba(features_valid)[:, 1])\n",
    "        if result > best_random_forest_f1_score:\n",
    "            best_random_forest_f1_score = result\n",
    "            best_auc_roc_score_model_random_forest = result_roc\n",
    "            best_model_random = model_random_forest\n",
    "        else:\n",
    "            continue\n",
    "\n",
    "\n",
    "\n",
    "\n",
    "\n",
    "# создадим списки с результатми \n",
    "\n",
    "models = [best_model_tree, best_model_random]\n",
    "f1_results = [best_tree_f1_score, best_random_forest_f1_score]\n",
    "auc_roc_results = [best_auc_roc_score_model_tree, best_auc_roc_score_model_random_forest]\n",
    "method = (f'{method}/' * len(models)).split('/')[:-1] # технический список. В него будет вносится метод"
   ]
  },
  {
   "cell_type": "code",
   "execution_count": 26,
   "id": "aaee34bd",
   "metadata": {},
   "outputs": [
    {
     "data": {},
     "metadata": {},
     "output_type": "display_data"
    }
   ],
   "source": [
    "results2 = pd.DataFrame({\n",
    "                                    'models': models,\n",
    "                                    'f1_results': f1_results,\n",
    "                                    'auc_roc_results': auc_roc_results,\n",
    "                                    'method': method\n",
    "                                }).sort_values(by='f1_results', ascending=False).reset_index(drop=True)\n",
    "\n",
    "print(f'''Лучшая модель: {results2[\"models\"][0]} при методе \"{results2[\"method\"][0]}\"\n",
    "Показала результат f1: {round(results2[\"f1_results\"][0], 3)} и auc-roc: {round( results2[\"auc_roc_results\"][0], 3)} \n",
    "\\n Таблица результатов:''')\n",
    "display(results2)"
   ]
  },
  {
   "attachments": {},
   "cell_type": "markdown",
   "id": "7cf1731b",
   "metadata": {},
   "source": [
    "### Class-weight-balance"
   ]
  },
  {
   "cell_type": "code",
   "execution_count": 30,
   "id": "ad96dd0a",
   "metadata": {},
   "outputs": [],
   "source": [
    "method = 'Class-weight-balance'            # метод, который тестируем\n",
    "best_model_random = None                   # лучшая модель случайного леса\n",
    "best_random_forest_f1_score = 0            # лучший результат f1-score для случайного леса\n",
    "best_auc_roc_score_model_random_forest = 0 # ллучший результат auc-roc для случайного леса\n",
    "\n",
    "\n",
    "\n",
    "\n",
    "for d in range(1, len(features_train.columns)):\n",
    "    model_random_forest = RandomForestClassifier(max_depth=d,\n",
    "                                                    n_estimators=n_e,\n",
    "                                                    random_state=12345, class_weight='balanced')\n",
    "    model_random_forest.fit(features_train, target_train)\n",
    "    predictions = model_random_forest.predict(features_valid)\n",
    "    result = f1_score(target_valid, predictions)\n",
    "    result_roc = roc_auc_score(target_valid, model_random_forest.predict_proba(features_valid)[:, 1])\n",
    "    if result > best_random_forest_f1_score:\n",
    "        best_random_forest_f1_score = result\n",
    "        best_auc_roc_score_model_random_forest = result_roc\n",
    "        best_model_random = model_random_forest\n",
    "    else:\n",
    "        continue\n",
    "\n",
    "\n",
    "\n",
    "# создадим списки с результатми \n",
    "\n",
    "models = [best_model_tree, best_model_random]\n",
    "f1_results = [best_tree_f1_score, best_random_forest_f1_score]\n",
    "auc_roc_results = [best_auc_roc_score_model_tree, best_auc_roc_score_model_random_forest]\n",
    "method = (f'{method}/' * len(models)).split('/')[:-1] # технический список. В него будет вносится метод"
   ]
  },
  {
   "cell_type": "code",
   "execution_count": null,
   "id": "18e1a526",
   "metadata": {},
   "outputs": [],
   "source": [
    "results3 = pd.DataFrame({\n",
    "                                    'models': models,\n",
    "                                    'f1_results': f1_results,\n",
    "                                    'auc_roc_results': auc_roc_results,\n",
    "                                    'method': method\n",
    "                                }).sort_values(by='f1_results', ascending=False).reset_index(drop=True)\n",
    "\n",
    "print(f'''Лучшая модель: {results3[\"models\"][0]} при методе \"{results3[\"method\"][0]}\"\n",
    "Показала результат f1: {round(results3[\"f1_results\"][0], 3)} и auc-roc: {round( results3[\"auc_roc_results\"][0], 3)} \n",
    "\\n Таблица результатов:''')\n",
    "display(results3)"
   ]
  },
  {
   "cell_type": "code",
   "execution_count": null,
   "id": "8d30857d",
   "metadata": {},
   "outputs": [],
   "source": [
    "df=pd.concat([results1, results2, results3]).sort_values(by='f1_results', ascending=False).reset_index(drop=True)\n",
    "print(f'''Лучшая модель: {df[\"models\"][0]} \n",
    "\n",
    "Показала результат f1: {round(df[\"f1_results\"][0], 3)} и auc-roc: {round( df[\"auc_roc_results\"][0], 3)} \n",
    "\n",
    "Таблица результатов:''')\n",
    "display(df)\n"
   ]
  },
  {
   "cell_type": "code",
   "execution_count": null,
   "id": "f8231fd8",
   "metadata": {},
   "outputs": [],
   "source": [
    "model = df[\"models\"][0] # запишем лучшую модель в переменную model и будем использовать её до конца исследования."
   ]
  },
  {
   "attachments": {},
   "cell_type": "markdown",
   "id": "1916a56e",
   "metadata": {},
   "source": [
    "**Наиболее точной моделью, показывающей наиболее точный результат оказалась модель случайного леса. В качестве наиболее оптимального метода борьбы с дисбалансом нам подошёл метод взвешивания классов.**"
   ]
  },
  {
   "attachments": {},
   "cell_type": "markdown",
   "id": "22322505",
   "metadata": {},
   "source": [
    "**ROC-AUC кривая**"
   ]
  },
  {
   "cell_type": "code",
   "execution_count": null,
   "id": "7f228dd3",
   "metadata": {},
   "outputs": [],
   "source": [
    "model.fit(features_train, target_train)\n",
    "\n",
    "probabilities_valid = model.predict_proba(features_valid)\n",
    "probabilities_one_valid = probabilities_valid[:, 1]\n",
    "\n",
    "fpr, tpr, thresholds = roc_curve(target_valid, probabilities_one_valid)\n",
    "\n",
    "plt.figure()\n",
    "\n",
    "plt.plot(fpr, tpr)\n",
    "\n",
    "plt.plot([0, 1], [0, 1], linestyle='--')\n",
    "\n",
    "plt.xlim([0.0, 1.0])\n",
    "plt.ylim([0.0, 1.0])\n",
    "plt.xlabel('False Positive Rate')\n",
    "plt.ylabel('True Positive Rate')\n",
    "plt.title('ROC-кривая')\n",
    "\n",
    "print('Метрика roc_auc:', \"{:.2f}\".format(roc_auc_score(target_valid, (model.predict_proba(features_valid)))))\n",
    "plt.show()"
   ]
  },
  {
   "attachments": {},
   "cell_type": "markdown",
   "id": "1bc4735f",
   "metadata": {},
   "source": [
    "Из графика выше видно, насколько наша модель точнее, чем случайная."
   ]
  },
  {
   "attachments": {},
   "cell_type": "markdown",
   "id": "533c62ce",
   "metadata": {},
   "source": [
    "## Тестирование модели"
   ]
  },
  {
   "attachments": {},
   "cell_type": "markdown",
   "id": "29dfd3bb",
   "metadata": {},
   "source": [
    "**На завершающем этапе необходимо протестировать отобранную модель.**\n",
    "\n",
    "Тестирование будет проходить в 3 этапа:\n",
    "\n",
    "    1) померяем f1_score на тестовой выборке;\n",
    "    2) проведём проверку модели на адекватность (сравним с константой);\n",
    "    3) оценим recall и поясним результаты модели."
   ]
  },
  {
   "cell_type": "code",
   "execution_count": null,
   "id": "3501a915",
   "metadata": {},
   "outputs": [],
   "source": [
    "model.fit(features_train, target_train)\n",
    "predictions = model.predict(features_test)\n",
    "print('На тестовой выборке модель показала результат f1-меры, соотвествующий значению:', round(f1_score(target_test, predictions), 2), '\\n', \n",
    "     'это больше, чем результат, который требовался в первоначальной задаче')"
   ]
  },
  {
   "cell_type": "code",
   "execution_count": null,
   "id": "096e00db",
   "metadata": {},
   "outputs": [],
   "source": [
    "consant_model = [1 for _ in range(len(predictions))]\n",
    "print('Случайная модель показывает f1-меру:', round(f1_score(target_test, consant_model), 2), '\\n',\n",
    "      'это практически в 2 раза меньше, чем наша модель. Что подтверждает её адекватность')"
   ]
  },
  {
   "cell_type": "code",
   "execution_count": null,
   "id": "893508b8",
   "metadata": {},
   "outputs": [],
   "source": [
    "print('С вероятностью в', round(recall_score(target_test, predictions), 2), 'модель правильно предскажет, какой клиент уйдёт')"
   ]
  },
  {
   "attachments": {},
   "cell_type": "markdown",
   "id": "95bb2fbf",
   "metadata": {},
   "source": [
    "**Общий вывод:**\n",
    "\n",
    "В ходе исследования была проведена подготовка и предобработка данных, с помощью этих данных было проведено тренировочное тестирование 3 моделей: случайный лес, древо-решений, а также логистическая регрессия. Первое тренировочное тестирование показало, что сделать корректную модель не проработов с дисбалансом классов - в данном случае не получится. Поэтому была проведена аналитика дисбалансов классов. Было использовано 3 подхода:\n",
    "\n",
    "    1) апсемплинг;\n",
    "    2) даунсеплинг;\n",
    "    3) взвешивание классов.\n",
    " \n",
    "В результате проведения тестирований, был отобран наиболее оптимальный подход, а именнно, подход взвешивания классов. \n",
    "В результате тестирования моделей с новым подходоим борьбы с дисбалансом, была выбрана лучшая модель. \n",
    "Модель - случайного леса, с гиперпараметрами:  (class_weight='balanced', max_depth=10, n_estimators=80).\n",
    "\n",
    "Эта модель также была обкатана на тестовых данных. В резульатет чего, F1-мера модели составила 0.61, что больше, чем требовалось в первоисходной задаче. Модель была протестирована на случайных данных и также показала свою эффективность.\n",
    "Была также оценена плотность модели, говорящая о том, какую долю верных предсказаний отразила модель. Эта доля составлиа 0.61, т.е. модель с 61% вероятностью определяет, с каким клиентом нужно поработать маркетолагам из \"Бета-Банка\"."
   ]
  }
 ],
 "metadata": {
  "kernelspec": {
   "display_name": "Python 3 (ipykernel)",
   "language": "python",
   "name": "python3"
  },
  "language_info": {
   "codemirror_mode": {
    "name": "ipython",
    "version": 3
   },
   "file_extension": ".py",
   "mimetype": "text/x-python",
   "name": "python",
   "nbconvert_exporter": "python",
   "pygments_lexer": "ipython3",
   "version": "3.9.13"
  },
  "toc": {
   "base_numbering": 1,
   "nav_menu": {},
   "number_sections": true,
   "sideBar": true,
   "skip_h1_title": true,
   "title_cell": "Table of Contents",
   "title_sidebar": "Contents",
   "toc_cell": false,
   "toc_position": {},
   "toc_section_display": true,
   "toc_window_display": false
  }
 },
 "nbformat": 4,
 "nbformat_minor": 5
}
